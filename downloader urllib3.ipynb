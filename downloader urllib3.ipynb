{
 "cells": [
  {
   "cell_type": "code",
   "execution_count": 1,
   "metadata": {},
   "outputs": [],
   "source": [
    "import requests, urllib3\n",
    "import threading\n",
    "import time,os\n",
    "urllib3.disable_warnings()"
   ]
  },
  {
   "cell_type": "code",
   "execution_count": 2,
   "metadata": {},
   "outputs": [],
   "source": [
    "http = urllib3.PoolManager(maxsize=100)"
   ]
  },
  {
   "cell_type": "code",
   "execution_count": 3,
   "metadata": {},
   "outputs": [],
   "source": [
    "chunk = 10240\n",
    "thread_no = 20"
   ]
  },
  {
   "cell_type": "code",
   "execution_count": 4,
   "metadata": {
    "scrolled": false
   },
   "outputs": [
    {
     "name": "stdout",
     "output_type": "stream",
     "text": [
      "1847336750\n"
     ]
    }
   ],
   "source": [
    "url = '''https://r2---sn-o3o-qxaz.googlevideo.com/videoplayback?key=yt6&source=youtube&mime=video/webm&pl=19&fvip=4&signature=B9216673B1CD0611137B77A8E74D972328A5694E.BB89E734763F9F33A3CAB1654508F316AFFFB084&ei=-Vz6W4mSFJK4qAGJqZ_4Bg&itag=272&gir=yes&sparams=aitags,clen,dur,ei,gir,id,initcwndbps,ip,ipbits,itag,keepalive,lmt,mime,mm,mn,ms,mv,pl,requiressl,source,expire&initcwndbps=1172500&id=o-AJk732y2bqsOLagxLc5DzouHMODPwLIPYz_ZVaoYxQyJ&mm=31,29&ipbits=0&c=WEB&mn=sn-o3o-qxaz,sn-qxa7sn7r&ms=au,rdu&mt=1543134356&dur=659.100&mv=m&clen=1847336750&ip=14.139.228.222&keepalive=yes&lmt=1537659543094242&aitags=133,134,135,136,137,160,242,243,244,247,248,271,272,278,313&requiressl=yes&expire=1543156057&alr=yes&cpn=mcWZfNul35AWufbt&cver=2.20181117&range=0-1847336750'''\n",
    "r = http.request('HEAD',url)\n",
    "file_size = int(r.headers['content-length'])\n",
    "print(file_size)"
   ]
  },
  {
   "cell_type": "code",
   "execution_count": 5,
   "metadata": {},
   "outputs": [],
   "source": [
    "def download_part(start,end):\n",
    "    global http\n",
    "    headers = {'Range': 'bytes=%d-%d' % (start, end)}\n",
    "    r = http.request('GET',url, headers=headers, preload_content=False)\n",
    "    with open('.'+str(start)+'-'+str(end),'wb') as f:\n",
    "        for c in r.stream(chunk):\n",
    "            if c:\n",
    "                f.write(c)"
   ]
  },
  {
   "cell_type": "code",
   "execution_count": 6,
   "metadata": {},
   "outputs": [],
   "source": [
    "if file_size<1000000:\n",
    "    thread_no = 1\n",
    "dl = int(file_size/thread_no)\n",
    "st_en = []\n",
    "for i in range(thread_no):\n",
    "    st_en.append([dl*i,(dl*i)+(dl-1)])\n",
    "st_en[-1][1]=file_size"
   ]
  },
  {
   "cell_type": "code",
   "execution_count": 7,
   "metadata": {},
   "outputs": [
    {
     "name": "stdout",
     "output_type": "stream",
     "text": [
      "130.1183145046234\n"
     ]
    }
   ],
   "source": [
    "tm = time.time()\n",
    "th=[]\n",
    "for i in range(thread_no):\n",
    "    th.append(threading.Thread(target=download_part,args=(st_en[i][0],st_en[i][1])))\n",
    "    th[i].start()\n",
    "for i in th:\n",
    "    i.join()\n",
    "print(time.time()-tm)"
   ]
  },
  {
   "cell_type": "code",
   "execution_count": 8,
   "metadata": {},
   "outputs": [],
   "source": [
    "with open('file_name.mp4','wb') as f:\n",
    "    for i in st_en:\n",
    "        f.write(open('.'+str(i[0])+'-'+str(i[1]),'rb').read())\n",
    "        os.remove('.'+str(i[0])+'-'+str(i[1]))"
   ]
  },
  {
   "cell_type": "code",
   "execution_count": null,
   "metadata": {},
   "outputs": [],
   "source": []
  }
 ],
 "metadata": {
  "kernelspec": {
   "display_name": "Python 3",
   "language": "python",
   "name": "python3"
  },
  "language_info": {
   "codemirror_mode": {
    "name": "ipython",
    "version": 3
   },
   "file_extension": ".py",
   "mimetype": "text/x-python",
   "name": "python",
   "nbconvert_exporter": "python",
   "pygments_lexer": "ipython3",
   "version": "3.7.0"
  }
 },
 "nbformat": 4,
 "nbformat_minor": 2
}
