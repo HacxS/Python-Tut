{
 "cells": [
  {
   "cell_type": "code",
   "execution_count": 1,
   "metadata": {},
   "outputs": [],
   "source": [
    "import requests\n",
    "import threading\n",
    "import time,os"
   ]
  },
  {
   "cell_type": "code",
   "execution_count": 13,
   "metadata": {},
   "outputs": [],
   "source": [
    "chunk = 1024\n",
    "thread_no = 5"
   ]
  },
  {
   "cell_type": "code",
   "execution_count": 14,
   "metadata": {},
   "outputs": [],
   "source": [
    "url = 'http://techslides.com/demos/sample-videos/small.mp4'\n",
    "url = '''https://r6---sn-o3o-qxal.googlevideo.com/videoplayback?mime=audio/webm&itag=251&expire=1543094990&sparams=clen,dur,ei,gir,id,initcwndbps,ip,ipbits,itag,keepalive,lmt,mime,mm,mn,ms,mv,pl,requiressl,source,expire&requiressl=yes&ei=bm75W4O7DNnEgAPGmaagCg&dur=5912.021&key=yt6&ip=14.139.228.222&keepalive=yes&mm=31,29&txp=5511222&mn=sn-o3o-qxal,sn-qxa7sn7l&mt=1543073262&initcwndbps=817500&mv=m&id=o-AMJJGU0G4yLDXnsWI3XcLi6ZWvni_vpagNVN2xXdxIw8&ms=au,rdu&signature=A688EAB64BFC873347D747DE46B8CF50FD96DF48.D336D4993ECBAC7E57D95813DCA286730DBD27E7&c=WEB&lmt=1542567961489544&pl=19&fvip=2&gir=yes&source=youtube&clen=101052549&ipbits=0&alr=yes&cpn=eLOaqw2bmWIauuZL&cver=2.20181117&range=0-101052549'''\n",
    "url = '''https://r3---sn-o3o-qxaz.googlevideo.com/videoplayback?ipbits=0&pcm2cms=yes&aitags=133%2C134%2C135%2C136%2C137%2C160%2C242%2C243%2C244%2C247%2C248%2C278%2C394%2C395%2C396%2C397%2C398&ei=Dkv6W-K2Hs7AgQOBnLeQCw&pl=19&mv=m&mt=1543129776&ms=au%2Crdu&source=youtube&txp=5533432&c=WEB&initcwndbps=810000&mn=sn-o3o-qxaz%2Csn-qxa7sn7r&gir=yes&mm=31%2C29&id=o-AOIHVDe8fzRPTrHd6Hgi8SxitWwI18D1cjDF4ipNK7Tn&expire=1543151470&fvip=3&key=yt6&mime=video%2Fwebm&sparams=aitags%2Cclen%2Cdur%2Cei%2Cgir%2Cid%2Cinitcwndbps%2Cip%2Cipbits%2Citag%2Ckeepalive%2Clmt%2Cmime%2Cmm%2Cmn%2Cms%2Cmv%2Cpcm2cms%2Cpl%2Crequiressl%2Csource%2Cexpire&keepalive=yes&lmt=1540465148504089&dur=482.640&clen=79203420&itag=248&requiressl=yes&ip=14.139.228.222&alr=yes&signature=8E237DC526FD5565BBDC1C54532A204EED214FBF.E2BD93F1626D67349071D661A7CA37445AADF0B1&cpn=gdm89RUBjtDjMUKV&cver=2.20181117&range=0-79203420'''\n",
    "r = requests.head(url)\n",
    "file_size = int(r.headers['content-length'])\n",
    "file_name = url.split('/')[-1]"
   ]
  },
  {
   "cell_type": "code",
   "execution_count": 15,
   "metadata": {},
   "outputs": [
    {
     "data": {
      "text/plain": [
       "79203420"
      ]
     },
     "execution_count": 15,
     "metadata": {},
     "output_type": "execute_result"
    }
   ],
   "source": [
    "file_size"
   ]
  },
  {
   "cell_type": "code",
   "execution_count": 16,
   "metadata": {},
   "outputs": [],
   "source": [
    "def download_part(start,end):\n",
    "    global r\n",
    "    headers = {'Range': 'bytes=%d-%d' % (start, end)}\n",
    "    r = requests.get(url, headers=headers, stream=True)\n",
    "    with open('.'+str(start)+'-'+str(end),'wb') as f:\n",
    "        for c in r.iter_content(chunk_size=chunk):\n",
    "            if c:\n",
    "                f.write(c)"
   ]
  },
  {
   "cell_type": "code",
   "execution_count": 17,
   "metadata": {},
   "outputs": [],
   "source": [
    "if file_size<1000000:\n",
    "    thread_no = 1\n",
    "dl = int(file_size/thread_no)\n",
    "st_en = []\n",
    "for i in range(thread_no):\n",
    "    st_en.append([dl*i,(dl*i)+(dl-1)])\n",
    "st_en[-1][1]=file_size"
   ]
  },
  {
   "cell_type": "code",
   "execution_count": 18,
   "metadata": {},
   "outputs": [
    {
     "name": "stderr",
     "output_type": "stream",
     "text": [
      "Exception in thread Thread-40:\n",
      "Traceback (most recent call last):\n",
      "  File \"C:\\ProgramData\\Anaconda3\\lib\\threading.py\", line 917, in _bootstrap_inner\n",
      "    self.run()\n",
      "  File \"C:\\ProgramData\\Anaconda3\\lib\\threading.py\", line 865, in run\n",
      "    self._target(*self._args, **self._kwargs)\n",
      "  File \"<ipython-input-16-6bbcd24b1a04>\", line 6, in download_part\n",
      "    for c in r.iter_content(chunk_size=chunk):\n",
      "  File \"C:\\ProgramData\\Anaconda3\\lib\\site-packages\\requests\\models.py\", line 749, in generate\n",
      "    for chunk in self.raw.stream(chunk_size, decode_content=True):\n",
      "  File \"C:\\ProgramData\\Anaconda3\\lib\\site-packages\\urllib3\\response.py\", line 465, in stream\n",
      "    data = self.read(amt=amt, decode_content=decode_content)\n",
      "  File \"C:\\ProgramData\\Anaconda3\\lib\\site-packages\\urllib3\\response.py\", line 413, in read\n",
      "    data = self._fp.read(amt)\n",
      "  File \"C:\\ProgramData\\Anaconda3\\lib\\http\\client.py\", line 447, in read\n",
      "    n = self.readinto(b)\n",
      "  File \"C:\\ProgramData\\Anaconda3\\lib\\http\\client.py\", line 491, in readinto\n",
      "    n = self.fp.readinto(b)\n",
      "ValueError: PyMemoryView_FromBuffer(): info->buf must not be NULL\n",
      "\n"
     ]
    }
   ],
   "source": [
    "th=[]\n",
    "for i in range(thread_no):\n",
    "    th.append(threading.Thread(target=download_part,args=(st_en[i][0],st_en[i][1])))\n",
    "    th[i].start()\n",
    "for i in th:\n",
    "    i.join()"
   ]
  },
  {
   "cell_type": "code",
   "execution_count": 12,
   "metadata": {},
   "outputs": [],
   "source": [
    "with open('file_name.mp4','wb') as f:\n",
    "    for i in st_en:\n",
    "        f.write(open('.'+str(i[0])+'-'+str(i[1]),'rb').read())\n",
    "        os.remove('.'+str(i[0])+'-'+str(i[1]))"
   ]
  },
  {
   "cell_type": "code",
   "execution_count": null,
   "metadata": {},
   "outputs": [],
   "source": []
  }
 ],
 "metadata": {
  "kernelspec": {
   "display_name": "Python 3",
   "language": "python",
   "name": "python3"
  },
  "language_info": {
   "codemirror_mode": {
    "name": "ipython",
    "version": 3
   },
   "file_extension": ".py",
   "mimetype": "text/x-python",
   "name": "python",
   "nbconvert_exporter": "python",
   "pygments_lexer": "ipython3",
   "version": "3.7.0"
  }
 },
 "nbformat": 4,
 "nbformat_minor": 2
}
